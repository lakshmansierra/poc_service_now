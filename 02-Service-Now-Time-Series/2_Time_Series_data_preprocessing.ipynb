{
  "cells": [
    {
      "cell_type": "markdown",
      "metadata": {
        "colab_type": "text",
        "id": "37puETfgRzzg"
      },
      "source": [
        "# Data Preprocessing Tools"
      ]
    },
    {
      "cell_type": "markdown",
      "metadata": {
        "colab_type": "text",
        "id": "EoRP98MpR-qj"
      },
      "source": [
        "## Importing the libraries"
      ]
    },
    {
      "cell_type": "code",
      "execution_count": 1,
      "metadata": {
        "colab": {},
        "colab_type": "code",
        "id": "N-qiINBQSK2g"
      },
      "outputs": [],
      "source": [
        "import os\n",
        "import numpy as np\n",
        "import matplotlib.pyplot as plt\n",
        "import pandas as pd\n"
      ]
    },
    {
      "cell_type": "markdown",
      "metadata": {
        "colab_type": "text",
        "id": "RopL7tUZSQkT"
      },
      "source": [
        "## Importing the dataset"
      ]
    },
    {
      "cell_type": "code",
      "execution_count": 2,
      "metadata": {},
      "outputs": [],
      "source": [
        "# Load Excel files\n",
        "df = pd.read_csv(\"1_service_now_historic_time_series_data/1_service_now_historic_time_series_data.csv\")"
      ]
    },
    {
      "cell_type": "code",
      "execution_count": 3,
      "metadata": {},
      "outputs": [
        {
          "name": "stdout",
          "output_type": "stream",
          "text": [
            "Index(['Asset_Number', 'Incident_Date', 'Gap_Days'], dtype='object')\n"
          ]
        }
      ],
      "source": [
        "print(df.columns)"
      ]
    },
    {
      "cell_type": "code",
      "execution_count": 4,
      "metadata": {},
      "outputs": [
        {
          "name": "stdout",
          "output_type": "stream",
          "text": [
            "   Asset_Number Incident_Date  Gap_Days\n",
            "0        100080    2021-04-09       3.0\n",
            "1        100080    2021-04-12       1.0\n",
            "2        100080    2021-04-13       2.0\n",
            "3        100080    2021-04-15       1.0\n",
            "4        100080    2021-04-16       7.0\n"
          ]
        }
      ],
      "source": [
        "print(df.head())"
      ]
    },
    {
      "cell_type": "markdown",
      "metadata": {},
      "source": [
        "## Inserting Data"
      ]
    },
    {
      "cell_type": "code",
      "execution_count": 5,
      "metadata": {},
      "outputs": [],
      "source": [
        "import pandas as pd\n",
        "from datetime import timedelta\n",
        "\n",
        "df[\"Incident_Date\"] = pd.to_datetime(df[\"Incident_Date\"])\n",
        "\n",
        "# Sort by Asset_Number and Incident_Date\n",
        "df = df.sort_values(by=[\"Asset_Number\", \"Incident_Date\"]).reset_index(drop=True)\n",
        "\n",
        "# Create a new list to store complete rows with missing dates filled\n",
        "filled_rows = []\n",
        "\n",
        "# Group by Asset_Number\n",
        "for asset_id, group in df.groupby(\"Asset_Number\"):\n",
        "    group = group.sort_values(\"Incident_Date\")\n",
        "    dates = list(group[\"Incident_Date\"])\n",
        "\n",
        "    # Start with the first date\n",
        "    current_date = dates[0]\n",
        "    end_date = dates[-1]\n",
        "\n",
        "    # Use a set for fast lookup\n",
        "    existing_dates = set(dates)\n",
        "\n",
        "    # Fill in missing dates\n",
        "    while current_date <= end_date:\n",
        "        if current_date in existing_dates:\n",
        "            # Use the existing row\n",
        "            row = group[group[\"Incident_Date\"] == current_date].iloc[0]\n",
        "            filled_rows.append({\n",
        "                \"Asset_Number\": asset_id,\n",
        "                \"Incident_Date\": current_date,\n",
        "                \"Gap_Days\": row[\"Gap_Days\"]\n",
        "            })\n",
        "        else:\n",
        "            # Insert missing date with Gap_Days = 0\n",
        "            filled_rows.append({\n",
        "                \"Asset_Number\": asset_id,\n",
        "                \"Incident_Date\": current_date,\n",
        "                \"Gap_Days\": 0\n",
        "            })\n",
        "\n",
        "        current_date += timedelta(days=1)\n",
        "\n",
        "# Create a new DataFrame\n",
        "df_filled = pd.DataFrame(filled_rows)\n",
        "\n",
        "# Sort and reset index\n",
        "df_filled = df_filled.sort_values(by=[\"Asset_Number\", \"Incident_Date\"]).reset_index(drop=True)\n"
      ]
    },
    {
      "cell_type": "markdown",
      "metadata": {},
      "source": [
        "## Export Updated Excel"
      ]
    },
    {
      "cell_type": "code",
      "execution_count": 6,
      "metadata": {},
      "outputs": [],
      "source": [
        "# Create the folder if it doesn't exist\n",
        "os.makedirs(\"2_service_now_historic_time_series_updated_data\", exist_ok=True)\n",
        "\n",
        "# Save the Excel file inside the folder\n",
        "df_filled.to_csv(\"2_service_now_historic_time_series_updated_data/2_service_now_historic_time_series_updated_data.csv\", index=False)"
      ]
    },
    {
      "cell_type": "code",
      "execution_count": null,
      "metadata": {},
      "outputs": [],
      "source": []
    }
  ],
  "metadata": {
    "colab": {
      "collapsed_sections": [],
      "name": "data_preprocessing_tools.ipynb",
      "provenance": [],
      "toc_visible": true
    },
    "kernelspec": {
      "display_name": ".venv",
      "language": "python",
      "name": "python3"
    },
    "language_info": {
      "codemirror_mode": {
        "name": "ipython",
        "version": 3
      },
      "file_extension": ".py",
      "mimetype": "text/x-python",
      "name": "python",
      "nbconvert_exporter": "python",
      "pygments_lexer": "ipython3",
      "version": "3.13.3"
    }
  },
  "nbformat": 4,
  "nbformat_minor": 0
}
