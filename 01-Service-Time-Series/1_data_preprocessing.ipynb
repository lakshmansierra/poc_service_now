{
  "cells": [
    {
      "cell_type": "markdown",
      "metadata": {
        "colab_type": "text",
        "id": "37puETfgRzzg"
      },
      "source": [
        "# Data Preprocessing Tools"
      ]
    },
    {
      "cell_type": "markdown",
      "metadata": {
        "colab_type": "text",
        "id": "EoRP98MpR-qj"
      },
      "source": [
        "## Importing the libraries"
      ]
    },
    {
      "cell_type": "code",
      "execution_count": 11,
      "metadata": {
        "colab": {},
        "colab_type": "code",
        "id": "N-qiINBQSK2g"
      },
      "outputs": [],
      "source": [
        "import os\n",
        "import numpy as np\n",
        "import matplotlib.pyplot as plt\n",
        "import pandas as pd\n"
      ]
    },
    {
      "cell_type": "markdown",
      "metadata": {
        "colab_type": "text",
        "id": "RopL7tUZSQkT"
      },
      "source": [
        "## Importing the dataset"
      ]
    },
    {
      "cell_type": "code",
      "execution_count": 12,
      "metadata": {},
      "outputs": [],
      "source": [
        "# Load Excel files\n",
        "df = pd.read_csv(\"0_service_now_raw_data/service_now_only.csv\")"
      ]
    },
    {
      "cell_type": "code",
      "execution_count": 13,
      "metadata": {},
      "outputs": [
        {
          "name": "stdout",
          "output_type": "stream",
          "text": [
            "Index(['Asset Number', 'Incident_Number', 'Short_Description', 'Status',\n",
            "       'Priority', 'Category', 'Subcategory', 'Assigned_To', 'Assigned_Group',\n",
            "       'Created_Date'],\n",
            "      dtype='object')\n"
          ]
        }
      ],
      "source": [
        "print(df.columns)"
      ]
    },
    {
      "cell_type": "code",
      "execution_count": 14,
      "metadata": {},
      "outputs": [],
      "source": [
        "# Selective renaming for df\n",
        "df_rename = df.rename(columns={\n",
        "    'Asset Number': 'Asset_Number'\n",
        "})\n"
      ]
    },
    {
      "cell_type": "code",
      "execution_count": 15,
      "metadata": {},
      "outputs": [
        {
          "name": "stdout",
          "output_type": "stream",
          "text": [
            "Index(['Asset_Number', 'Incident_Number', 'Short_Description', 'Status',\n",
            "       'Priority', 'Category', 'Subcategory', 'Assigned_To', 'Assigned_Group',\n",
            "       'Created_Date'],\n",
            "      dtype='object')\n"
          ]
        }
      ],
      "source": [
        "print(df_rename.columns)"
      ]
    },
    {
      "cell_type": "code",
      "execution_count": 18,
      "metadata": {},
      "outputs": [],
      "source": [
        "# Your selected columns\n",
        "req_cols = ['Asset_Number', 'Created_Date']\n",
        "\n",
        "# Load only required columns\n",
        "df = df_rename[req_cols]\n"
      ]
    },
    {
      "cell_type": "code",
      "execution_count": 20,
      "metadata": {},
      "outputs": [
        {
          "name": "stdout",
          "output_type": "stream",
          "text": [
            "   Asset_Number         Created_Date\n",
            "0        100080  2024 04 09T15:58:22\n",
            "1        100081  2024 04 17T08:05:22\n",
            "2        300006  2024 04 10T08:33:47\n",
            "3        300007  2024 04 05T14:22:33\n",
            "4        300008  2024 04 11T11:45:33\n"
          ]
        }
      ],
      "source": [
        "print(df.head())"
      ]
    },
    {
      "cell_type": "markdown",
      "metadata": {},
      "source": [
        "## Custom Data Creation"
      ]
    },
    {
      "cell_type": "code",
      "execution_count": 23,
      "metadata": {},
      "outputs": [
        {
          "name": "stderr",
          "output_type": "stream",
          "text": [
            "C:\\Users\\User\\AppData\\Local\\Temp\\ipykernel_17996\\143654754.py:4: SettingWithCopyWarning: \n",
            "A value is trying to be set on a copy of a slice from a DataFrame.\n",
            "Try using .loc[row_indexer,col_indexer] = value instead\n",
            "\n",
            "See the caveats in the documentation: https://pandas.pydata.org/pandas-docs/stable/user_guide/indexing.html#returning-a-view-versus-a-copy\n",
            "  df[\"Created_Date\"] = pd.to_datetime(df[\"Created_Date\"], format=\"%Y %m %dT%H:%M:%S\")\n"
          ]
        }
      ],
      "source": [
        "from datetime import timedelta\n",
        "import random\n",
        "\n",
        "df[\"Created_Date\"] = pd.to_datetime(df[\"Created_Date\"], format=\"%Y %m %dT%H:%M:%S\")\n",
        "\n",
        "# Initialize list to hold simulated data\n",
        "simulated_data = []\n",
        "\n",
        "# For each unique asset\n",
        "for _, row in df.iterrows():\n",
        "    asset_id = row[\"Asset_Number\"]\n",
        "    created_date = row[\"Created_Date\"]\n",
        "\n",
        "    # Define start of 36-month window\n",
        "    start_date = created_date - pd.DateOffset(months=36)\n",
        "\n",
        "    # Generate random number of incidents (e.g., between 50 and 300 total per asset)\n",
        "    num_incidents = random.randint(50, 300)\n",
        "\n",
        "    # Generate random dates within the range [start_date, created_date]\n",
        "    incident_dates = [\n",
        "        start_date + timedelta(days=random.randint(0, (created_date - start_date).days))\n",
        "        for _ in range(num_incidents)\n",
        "    ]\n",
        "\n",
        "    # Sort incident dates\n",
        "    incident_dates.sort()\n",
        "\n",
        "    # Append to the simulated data list\n",
        "    for date in incident_dates:\n",
        "        simulated_data.append({\"Asset_Number\": asset_id, \"Incident_Date\": date})\n",
        "\n",
        "# Convert to DataFrame\n",
        "incident_df = pd.DataFrame(simulated_data)\n",
        "\n",
        "# Sort by Asset and Incident Date\n",
        "incident_df = incident_df.sort_values([\"Asset_Number\", \"Incident_Date\"])\n",
        "\n",
        "# Compute the gap in days between consecutive incidents per asset\n",
        "incident_df[\"Gap_Days\"] = incident_df.groupby(\"Asset_Number\")[\"Incident_Date\"].diff().dt.days\n",
        "\n",
        "incident_df.reset_index(drop=True, inplace=True)\n"
      ]
    },
    {
      "cell_type": "markdown",
      "metadata": {},
      "source": [
        "## Export Updated Excel"
      ]
    },
    {
      "cell_type": "code",
      "execution_count": 24,
      "metadata": {},
      "outputs": [],
      "source": [
        "# Create the folder if it doesn't exist\n",
        "os.makedirs(\"1_service_now_historic_time_series_updated_data\", exist_ok=True)\n",
        "\n",
        "# Save the Excel file inside the folder\n",
        "incident_df.to_csv(\"1_service_now_historic_time_series_updated_data/1_service_now_historic_time_series_updated_data.csv\", index=False)"
      ]
    },
    {
      "cell_type": "code",
      "execution_count": null,
      "metadata": {},
      "outputs": [],
      "source": []
    }
  ],
  "metadata": {
    "colab": {
      "collapsed_sections": [],
      "name": "data_preprocessing_tools.ipynb",
      "provenance": [],
      "toc_visible": true
    },
    "kernelspec": {
      "display_name": ".venv",
      "language": "python",
      "name": "python3"
    },
    "language_info": {
      "codemirror_mode": {
        "name": "ipython",
        "version": 3
      },
      "file_extension": ".py",
      "mimetype": "text/x-python",
      "name": "python",
      "nbconvert_exporter": "python",
      "pygments_lexer": "ipython3",
      "version": "3.13.5"
    }
  },
  "nbformat": 4,
  "nbformat_minor": 0
}
